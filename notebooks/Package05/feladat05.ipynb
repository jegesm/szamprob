{
 "cells": [
  {
   "cell_type": "markdown",
   "metadata": {
    "collapsed": false
   },
   "source": [
    "# Feladatok\n",
    "\n",
    "- Minden feladatot külön notebookba oldj meg! \n",
    "- A megoldásnotebook **neve** tartalmazza a feladat **számát**! \n",
    "- A megoldások kerüljenek a **MEGOLDASOK mappába**!<br> Csak azok a feladatok kerülnek elbírálásra, amelyek a MEGOLDASOK mappában vannak!\n",
    "- A megoldás tartalmazza a megoldandó **feladat szövegét** a megoldásnotebook első `markdown` cellájában! \n",
    "- **Kommentekkel**, illetve `markdown` cellákkal magyarázd, hogy éppen mit csinál az adott kódrészlet!<br> Magyarázat nélkül beküldött feladatok csak fél feladatnak számítanak!\n",
    "- Az elkészített ábrákon legyen minden esetben **tengelyfelirat**! Amennyiben a beadott ábrákon nincs **tengelyfelirat**, az adott feladat automatikusan **nem teljesítettnek** minősül!\n",
    "---"
   ]
  },
  {
   "cell_type": "markdown",
   "metadata": {},
   "source": [
    "## 01-File megnyitás mode-ok\n",
    "\n",
    "Milyen értékeket vehet fel az `open` függvény `mode` paramétere? \n",
    "- Sorold fel a lehetséges értékeket és jelentésüket!\n",
    "- Melyek az alapértelmezett értékek?\n",
    "- Linkekkel jelöld a forrásaidat!"
   ]
  },
  {
   "cell_type": "markdown",
   "metadata": {},
   "source": [
    "## 02-Filemanipuláció\n",
    "\n",
    "Cseréld ki a `'../data/NAPFOLT/SN_m_tot_V2.0.txt'` file 137. és 42. karakterét! \n",
    "- Az eredményt írd ki a `'napfolt_csere.dat'` file-ba!\n",
    "- Használjuk a python beépített függvényeit!\n",
    "- Emlékezz, hogy a `python`-ban minden 0-val kezdődik!\n",
    "- **NE** használd a `numpy` által biztosított függvényeket! Amennyiben a feladat megoldásához tartozó notebookban `loadtxt()` vagy `savetxt()` függvény van, a feladat automatikusan nem teljesítettnek **minősül**!"
   ]
  },
  {
   "cell_type": "markdown",
   "metadata": {},
   "source": [
    "## 03-Napfoltmegfigyelések száma és szórása\n",
    "\n",
    "Ábrázoljuk a `'../data/NAPFOLT/SN_m_tot_V2.0.txt'` file-ban található napfoltadatok számát és a megfigyelések pontosságát jellemző szórásokat az idő függvényében!\n",
    "- Használjuk a python beépített függvényeit a mintapéldában bemutatott módon!\n",
    "- Két ábrát készíts, egyet a megfigyelések számáról (nem a napfoltok számáról), egyet pedig az adatok szórásáról!"
   ]
  },
  {
   "cell_type": "markdown",
   "metadata": {},
   "source": [
    "## 04- Baumgartner sebesen\n",
    "\n",
    "A `'../data/BAUMGARTNER/v_vs_t'` file tartalmazza a Felix Baumgartner ugrásának **mért** sebesség-idő adatait. A file két oszlopot tartalmaz, az első a mérés ideje másodpercben mérve, a második az esési sebesség abszolút értéke km/h mértékegységben. \n",
    "\n",
    "- Hasonlítsuk össze egy ábra segítségével a sebesség$--$idő adatsort az út$--$idő függvényből numerikus deriválással kapott adatsorral! Használjuk a `'../data/BAUMGARTNER/h_vs_t'` file-ból a magasság$--$idő adatokat!\n",
    "  - Az ábrán legyen jelmagyarázat! Jelmagyarázat nélküli ábra automatikusan 0 pontos feladatot jelent!\n",
    "- A sebesség-idő adatok numerikus deriválásával számítsuk ki a gyorsulás$--$idő függvényt, és elemezzük a függvény első néhány (10) pontját!\n",
    "  - Mennyi a pontok átlaga?\n",
    "  - Fizikai megfontolások alapján mennyinek kell lennie ennek az értéknek?\n",
    "- Az adatok elemzésének segítségével, illetve az eredeti felvételt alaposabban is megvizsgálva nyilatkozzunk, hogy mi lehet az oka a sebesség-idő adatokban mutatkozó drasztikus ugrásnak $t\\approx 270s$ környékén?\n",
    "\n",
    "*Megjegyzés: numerikus deriváláshoz érdemes a mintapéldát felhasználni.*"
   ]
  },
  {
   "cell_type": "markdown",
   "metadata": {},
   "source": [
    "## 05-Ebola \n",
    "\n",
    "A `'../data/EBOLA/ebola.txt'` file tartalmazza a 2014-es Ebola járvány fertőzöttségi és kumulatív (adott napig hányan haltak meg összesen) halálozási adatait. \n",
    "- Ábrázoljuk a file-ban szereplő összes országra külön-külön az elhalálozottak számát az idő függvényében!\n",
    "- A járványterjedések jó közelítéssel exponenciális függvényalakkal jellemezhatőek, azaz az alábbi függvény $$f(t)=A e^{\\alpha t} $$ jól szokott illeni ezen adatokra. Átlagképzés és numerikus deriválás segítségével határozzuk meg az $A$ és $\\alpha$ együtthatókat az összes elhalálozások számából! Mivel $$\\mathrm{d}f/\\mathrm{d}t=\\alpha f(t)$$ ezért $\\alpha$ a halálozási idősor és annak idő-deriváltjának hányadosának az átlagával közelíthető. Az $\\alpha$ ráta ismeretében az  $A$ eggyütható értékét becsüljük meg az adatsor utólsó napjához tartozó adatokból!\n",
    "- Ábrázoljuk a meghatározott paraméter értékek segítségével az $f(t)$ függvényt és az adatokat egyszerre!"
   ]
  },
  {
   "cell_type": "markdown",
   "metadata": {
    "collapsed": true
   },
   "source": [
    "## 06-☠ Mekegünk vagy nem mekegünk?\n",
    "\n",
    "Gyakran mondják, hogy a magyar nyelv aránytalanul sok e-betűt használ, idegen hallgatóság úgy érzékeli, mintha sokat \"mekegnénk\". \n",
    "- Vizsgáljuk meg, mi a 10 leggyakoribb magyar betű Mikszáth Kálmán A fekete város c. regényében (`../data/fekete_varos.txt`)! \n",
    "- Figyeljünk arra, hogy számlálás közben mindent kisbetűssé alakítsunk. \n",
    "- Benne van-e az első 10 betű között az \"e\"? \n",
    "- A két- és háromjegyű mássalhangzókat most kezeljük két külön betűnek.\n",
    "\n"
   ]
  },
  {
   "cell_type": "markdown",
   "metadata": {},
   "source": [
    "## 07-☠ Rímdetektor\n",
    "\n",
    "- Olvassuk be Petőfi Sándor Szeptember végén c. versének sorait egy listába (`../data/szeptember_vegen.txt`)! \n",
    "- Írjunk egy függvényt, amelynek ha beadunk két sort, akkor \"megméri\", hogy azok mennyire rímelnek! \n",
    "- A \"mérés\" úgy történik, hogy vesszük mindkét sor utolsó szavát, majd a két szó közös karaktereinek számának a kétszeresét elosztjuk a két szó hosszának összegével.\n",
    "- A mérés előtt a szavakből távolítsuk el az írásjeleket! \n",
    "- Ezután vizsgáljuk meg, hogy a versen végigmenve a rímdetektor páros rímre (aabb) vagy keresztrímre (abab) ad-e nagyobb átlagos \"rímmértéket\"!"
   ]
  }
 ],
 "metadata": {
  "anaconda-cloud": {},
  "hide_input": false,
  "kernelspec": {
   "display_name": "Python 3",
   "language": "python",
   "name": "python3"
  },
  "language_info": {
   "codemirror_mode": {
    "name": "ipython",
    "version": 3
   },
   "file_extension": ".py",
   "mimetype": "text/x-python",
   "name": "python",
   "nbconvert_exporter": "python",
   "pygments_lexer": "ipython3",
   "version": "3.5.1"
  },
  "latex_envs": {
   "bibliofile": "biblio.bib",
   "cite_by": "apalike",
   "current_citInitial": 1,
   "eqLabelWithNumbers": true,
   "eqNumInitial": 0
  },
  "name": "feladat03.ipynb",
  "toc": {
   "toc_cell": false,
   "toc_number_sections": false,
   "toc_section_display": "none",
   "toc_threshold": 6,
   "toc_window_display": true
  }
 },
 "nbformat": 4,
 "nbformat_minor": 0
}
