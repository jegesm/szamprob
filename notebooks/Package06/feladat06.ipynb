{
 "cells": [
  {
   "cell_type": "markdown",
   "metadata": {},
   "source": [
    "# Feladatok\n",
    "\n",
    "## 01-osztálynévsor\n",
    "\n",
    "A `Megoldás` mappában megtalálható az `osztaly.csv` fájl. Ez egy osztály öt témazáróra `[T1,T2,T3,T4,T5]` kapott jegyeit tartalmazza néhány plusz információval (`Nem`, `Kor`, `Fakt`) kiegészítve. A `Fakt` oszlopban az 1-es azt jelöli, hogy az adott ember jár matekfaktra.\n",
    "\n",
    "1. Olvasd be a fájlt egy DataFrame-be! Vigyázz arra, hogy a szövegfájlban a mezők a `#` jellel vannak elválasztva. (Ha a fejlécet és az indexet automatikusan készíted (nem adsz meg semmit), akkor az index 0-tól növekvő számsorozat, a fejléc pedig a szövegfájl első sora lesz.)\n",
    "\n",
    "2. Rendezd a táblázatot névsor szerint úgy, hogy az az előző, nem rendezett táblázatot felülírja!\n",
    "\n",
    "3. Minden emberhez számold ki az 5 dolgozatának átlagát! Ezt akkor könnyű megtenned, ha előtte a .set_index() függvény segítségével beállítod, hogy az indexoszlop a nevek oszlopa legyen.\n",
    "\n",
    "4. Hány darab faktos lány van?\n",
    "\n",
    "5. Írasd ki a 16 évesek neveit!\n",
    "\n",
    "7. ☠ Hányféle férfi keresztnév szerepel a táblázatban?\n",
    "\n",
    "8. ☠ Készíts egy táblázatot, amelyben a sorok a különböző korcsoportok, az oszlopok a nemek, az értékek pedig a kor/nem szerinti dolgozatátlagok!"
   ]
  },
  {
   "cell_type": "markdown",
   "metadata": {},
   "source": [
    "## 02-érettségi adatok"
   ]
  },
  {
   "cell_type": "markdown",
   "metadata": {},
   "source": [
    "Olvasd be egy pandas DataFrame-be a mintapéldában is használt érettségikről szóló adatfájlt!\n",
    "\n",
    "1. Mely városok dobogósak, ha a 2015-ös emelt szintű érettségik átlagos százalékát nézzük? És mely megyék vannak az utolsó ötben?\n",
    "\n",
    "2. Az ember gyakran hallja, hogy a lányok szóban jobban teljesítenek, mint a fiúk. Vegyük évenként csoportosítva az emelt szintű érettségik szóbeli pontszámának átlagát a lányokra és a fiúkra egy külön DataFrame-be! Vonjuk ki egymásból a két értéket, majd az eredményt ábrázoljuk oszlopdiagramon. Megjelenik-e a nemek közötti különbség a szóbeli pontszámában? *Figyelj a szépen formázott, megfelelő tengelyfeliratokra, és a megfelelő ábraméretre!*\n",
    "\n",
    "3. A két szinten hogyan oszlanak el a nemek? Ábrázold két kördiagramon a fiúk és a lányok arányát, a körcikkekre írd rá a százalékos értéket 1 tizedesjegyre kerekítve! *Figyelj a szépen formázott, megfelelő tengelyfeliratokra, és a megfelelő ábraméretre!* (Megjegyzés: a \"nő\" szóban az \"ő\" helyett \"õ\" szerepel.)\n",
    "\n",
    "4. Ábrázold hisztogramon 2014-es középszintű érettségi jegyeloszlását, a pandas DataFrame-hez tartozó plot parancsot használva. Az x tengely felirata legyen az 5 lehetséges érdemjegy, az ábrán csak az ezekhez tartozó oszlopok látszódjanak ([puska](http://pandas.pydata.org/pandas-docs/stable/generated/pandas.DataFrame.plot.html))! *Figyelj a szépen formázott, megfelelő tengelyfeliratokra, és a megfelelő ábraméretre!*\n",
    "\n",
    "5. ☠ Találj ki egy számodra érdekes kérdést ezzel az adathalmazzal kapcsolatban, és válaszold meg pandas segítségével! (Ötletek érdekes adatokra: előrehozott érettségi, szintemelő érettségi, levelező képzés stb.)\n",
    "\n",
    "6. ☠  Mennyi volt iskolatípusonként az emelt szintű dolgozatok átlagpontszáma 2011 és 2015 között évenként? Ábrázold oszlopdiagramon az eredményt, figyelj a szépen formázott, megfelelő tengelyfeliratokra, és a megfelelő ábraméretre! (Segítség: év és iskolatípus szerint is kell majd csoportosítani, majd pedig `pivot_table`-t készíteni, miután a megfelelő oszlopokat kivettük az indexből.)\n",
    "\n",
    "7. ☠ Oldd megy a 2. feladatot `apply` segítségével! Vázlat segítségül:\n",
    "    * Csoportosíts év és nem szerint.\n",
    "    * Számold ki a csoportonkénti szóbeli pontszám átlagát.\n",
    "    * Készíts `pivot_table`-t, az oszlopok legyenek a nemek.\n",
    "    * `apply` segítségével hozz létre egy új oszlopot, amely a férfi és a nő oszlop különbsége lesz minden sorban.\n",
    "    * Ábrázold csak ezt az oszlopot oszlopdiagramon."
   ]
  }
 ],
 "metadata": {
  "anaconda-cloud": {},
  "hide_input": false,
  "kernelspec": {
   "display_name": "Python 3",
   "language": "python",
   "name": "python3"
  },
  "language_info": {
   "codemirror_mode": {
    "name": "ipython",
    "version": 3
   },
   "file_extension": ".py",
   "mimetype": "text/x-python",
   "name": "python",
   "nbconvert_exporter": "python",
   "pygments_lexer": "ipython3",
   "version": "3.5.1"
  },
  "toc": {
   "toc_cell": false,
   "toc_number_sections": false,
   "toc_threshold": 6,
   "toc_window_display": true
  }
 },
 "nbformat": 4,
 "nbformat_minor": 0
}
