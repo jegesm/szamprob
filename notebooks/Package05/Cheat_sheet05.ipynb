{
 "cells": [
  {
   "cell_type": "markdown",
   "metadata": {
    "collapsed": false
   },
   "source": [
    "# File műveletek\n",
    "\n",
    "<h3 style='color: darkcyan '> Alap python I/O </h3>\n",
    "\n",
    "Olvasás\n",
    "\n",
    ">```python\n",
    "file1 = open('adat.dat')\n",
    "egeszfile=file1.read()\n",
    "file1.close()\n",
    "```\n",
    "\n",
    "Írás\n",
    "\n",
    ">```python\n",
    "file1 =open('mentes.dat',mode='w')\n",
    "file1.write('Ez kerul a fileba')\n",
    "file1.close()\n",
    "```\n",
    "\n",
    "\n",
    "\n",
    "<h3 style='color: darkcyan'> Numpy file műveletek </h3>\n",
    "\n",
    "Olvasás\n",
    ">```python\n",
    "dat=loadtxt('adat.data')\n",
    "```\n",
    "\n",
    "Írás\n",
    ">```python\n",
    "savetxt('mentes',valtozo)\n",
    "```\n"
   ]
  }
 ],
 "metadata": {
  "anaconda-cloud": {},
  "hide_input": false,
  "kernelspec": {
   "display_name": "Python 3",
   "language": "python",
   "name": "python3"
  },
  "language_info": {
   "codemirror_mode": {
    "name": "ipython",
    "version": 3
   },
   "file_extension": ".py",
   "mimetype": "text/x-python",
   "name": "python",
   "nbconvert_exporter": "python",
   "pygments_lexer": "ipython3",
   "version": "3.5.1"
  },
  "latex_envs": {
   "bibliofile": "biblio.bib",
   "cite_by": "apalike",
   "current_citInitial": 1,
   "eqLabelWithNumbers": true,
   "eqNumInitial": 0
  },
  "name": "Cheat_sheat.ipynb"
 },
 "nbformat": 4,
 "nbformat_minor": 0
}
