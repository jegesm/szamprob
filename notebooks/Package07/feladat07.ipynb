{
 "cells": [
  {
   "cell_type": "markdown",
   "metadata": {},
   "source": [
    "# Feladatok\n",
    "\n",
    "- Minden feladatot külön notebookba oldj meg! \n",
    "- A megoldásnotebook **neve** tartalmazza a feladat **számát**! \n",
    "- A megoldások kerüljenek a **MEGOLDASOK mappába**!<br> Csak azok a feladatok kerülnek elbírálásra, amelyek a MEGOLDASOK mappában vannak!\n",
    "- A megoldás tartalmazza a megoldandó **feladat szövegét** a megoldásnotebook első `markdown` cellájában! \n",
    "- **Kommentekkel**, illetve `markdown` cellákkal magyarázd, hogy éppen mit csinál az adott kódrészlet!<br> Magyarázat nélkül beküldött feladatok csak fél feladatnak számítanak!\n",
    "- Az elkészített ábrákon legyen minden esetben **tengelyfelirat**! Amennyiben a beadott ábrákon nincs **tengelyfelirat**, az adott feladat automatikusan **nem teljesítettnek** minősül!\n",
    "---"
   ]
  },
  {
   "cell_type": "markdown",
   "metadata": {},
   "source": [
    "## 01-Baumgartner\n",
    "A mintapéldák között láttunk Felix Baumgartner ugrásával kapcsolatban több példát is. Határozzuk meg $g$ és $\\alpha$ értékét a $v(t)$ függvény elejéhez vett lineáris, illetve a $t=210\\dots260$ intervallumban illesztett konstans függvényekből! Itt is készítsünk szépen formázott ábrát! A szükséges adatok a `../data/v_vs_t` file-ban találhatóak. A file első oszlopa az esés ideje s-ban, a második oszlop a sebesség km/h-ban.\n",
    "Egy egyenletesen $g$-vel gyorsuló test sebessége az idő függvényében az egyszerű $$ v(t)=gt $$ kifejezés szerint változik.\n",
    "Az $\\alpha$ közegellenállási együttható pedig a $$ \\alpha=\\frac{mg}{v^2} $$ kifejezésből kapható meg, ahol a $v$ sebesség a $v(t)$ függvény $t=210\\dots260$ időintervallumban vett konstans illesztéséből adódó érték."
   ]
  },
  {
   "cell_type": "markdown",
   "metadata": {},
   "source": [
    "## 02-Ebola illesztés\n",
    "\n",
    "Az `../data/ebola.txt` file tartalmazza a legutóbbi ebolajárvány terjedési idősorát országokra lebontva. \n",
    "\n",
    "- Ábrázoljuk az idő függvényében az összes bekövetkezett haláleset számát (Ezt az adatsort több oszlop összegeként tudjuk előállítani! ). \n",
    "- Illesszünk az összes bekövetkezett haláleset számára egy exponenciális függvényalakot! $$f(t,A,\\beta)=A\\mathrm{e}^{\\beta t}$$   \n",
    "\n",
    "- Becsüljük meg, ha nem tett volna az ENSZ semmit, akkor mikor pusztult volna ki az emberiség!"
   ]
  },
  {
   "cell_type": "markdown",
   "metadata": {},
   "source": [
    "## 03-Csúcs keresés\n",
    "\n",
    "A `../data/pupos` file tartalmaz egy zajos adatsort.\n",
    "\n",
    "- Illesszünk erre az adatsorra két Gauss-görbe összegét! $$ f_{2G}(x)=A_1 \\mathrm{e}^{-(x-e_1)^2/s_1^2}+A_2 \\mathrm{e}^{-(x-e_2)^2/s_2^2} $$\n",
    "\n",
    "- Illesszünk erre az adatsorra két Lorentz-görbe összegét is! $$ f_{2L}(x)=\\frac{B_1}{w_1^2+(x-p_1)^2}+\\frac{B_2}{w_2^2+(x-p_2)^2} $$\n",
    "\n",
    "Ábrázoljuk az eredeti adatsort, illetve mind a két esetben ábrázoljuk az illesztés eredményét is! Ha az illesztés során esetleg problémákba ütközünk, akkor próbálkozzunk az illesztési paraméterek kezdeti értékének becslésével!"
   ]
  },
  {
   "cell_type": "markdown",
   "metadata": {},
   "source": [
    "## 04-Zenebona \n",
    "\n",
    "Vizsgáljuk meg a `../data/zenebona` nevű file-ban található zajos adatsor Fourier-spektrumát. Határozzuk meg azokat a pozitív frekvenciákat, melyek dominánsan szerepelnek ! Az file két oszlopot tartalmaz: az első oszlop az idő, a második pedig a jel.\n",
    "\n",
    "- Készíts ábrát a jel alakjáról!\n",
    "- Készíts ábrát a jel Fourier-transzformáltjáról!\n",
    "- Határozd meg a Fourier-transzformált domináns frekvenciáit, és jelöld azokat az ábrán! Például tegyünk esetlegesen előforduló csúcs(ok) tetejére valamilyen jelet!"
   ]
  },
  {
   "cell_type": "markdown",
   "metadata": {},
   "source": [
    "## 05-Árapály\n",
    "\n",
    "Vizsgáljuk meg az `../data/arapaly` fileban található adatokat, melyek egy idilli kis tengerparti angol falu, [Heysham](https://en.wikipedia.org/wiki/Heysham), atomerőművének tengerszintmérő berendezésének a méréseit tartalmazza. Az adatsor két oszlopból áll: az első oszlop az idő napban mérve, a második oszlop az aktuális tengerszint méterben. \n",
    "- Fizikai meggondolások alapján milyen domináns frekvenciát vársz az adatsortól? \n",
    "- Készíts ábrát az első 3 nap adatai alapján a tengerszint ingadozásáról!\n",
    "- Készíts ábrát a jel Fourier-transzformáltjáról! Megjelenik a várt frekvencia? "
   ]
  },
  {
   "cell_type": "markdown",
   "metadata": {},
   "source": [
    "## 06-Centrális határeloszlás-tétel  ☠\n",
    "\n",
    "Görbeillesztéssel vizsgáljuk meg, hogy mennyire teljesül a [Centrális határeloszlás-tétel](https://hu.wikipedia.org/wiki/Centr%C3%A1lis_hat%C3%A1reloszl%C3%A1s-t%C3%A9tel)!\n",
    "\n",
    "- Generálj 20, egyenként 1000 véletlen számot tartalmazó array-t, melyek a [0,1] intervallumon egyenletes eloszlásúak!\n",
    "- Gyártsd le a 20 array összegének eloszlását!\n",
    "- Illessz az eloszlás pontjaira Gauss-görbét!"
   ]
  },
  {
   "cell_type": "markdown",
   "metadata": {},
   "source": [
    "## 07-Frekvenciaszűrő ☠\n",
    "\n",
    "Az `ifft` fügvény segítségével kaphatjuk meg egy függvény inverz Fourier transzformáltját. Alkalmazva ezt a függvényt, szűrjük ki a ` ../data/zenebona` fileban található hangmintából a 20Hz-nél magasabb frekvenciájú komponenseket! "
   ]
  }
 ],
 "metadata": {
  "hide_input": false,
  "kernelspec": {
   "display_name": "Python 3",
   "language": "python",
   "name": "python3"
  },
  "language_info": {
   "codemirror_mode": {
    "name": "ipython",
    "version": 3
   },
   "file_extension": ".py",
   "mimetype": "text/x-python",
   "name": "python",
   "nbconvert_exporter": "python",
   "pygments_lexer": "ipython3",
   "version": "3.5.1"
  },
  "name": "feladat04.ipynb"
 },
 "nbformat": 4,
 "nbformat_minor": 0
}
