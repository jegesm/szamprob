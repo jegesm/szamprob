{
 "cells": [
  {
   "cell_type": "markdown",
   "metadata": {},
   "source": [
    "# Illesztés \n",
    "\n",
    "<h3 style='color: darkcyan '> Egyváltozós, egyparaméteres függvény illesztése </h3>\n",
    "\n",
    "\n",
    ">```python\n",
    ">from scipy.optimize import curve_fit # a curv_fit függvény betöltése\n",
    ">\n",
    "># Ezt a függvényt fogjuk használni az illesztésre!\n",
    ">def fun(t,p):                # Egyváltozós, egyparaméteres\n",
    ">     return sin(p*t)         # függvény deklarálása\n",
    ">\n",
    ">#A fun fuggveny illesztese a t és x tömbökben tárolt adatokra\n",
    ">popt,pcov=curve_fit(fun,t,x) # Maga az illesztés             \n",
    ">\n",
    ">p_illesztett=popt[0]         # az illesztett paraméter\n",
    ">p_hiba=sqrt(diag(pcov))[0]   # az illesztés hibája\n",
    ">\n",
    ">fun(t,*popt) # így használhatjuk az illesztett paramétereket\n",
    ">```\n",
    "\n",
    "# Fourier-transzformáció\n",
    "\n",
    "<h3 style='color: darkcyan '> Egyváltozós Fourier-transzformáció </h3>\n",
    "\n",
    ">```python\n",
    ">from numpy.fft import *     #Fourier-analízishez használt rutinok\n",
    ">\n",
    ">#Az x és t tömbökben tárolt jel Fourier-transzformáltja\n",
    ">Fjel=fft(x)                      # Fourier-transzformáció\n",
    ">freq = fftfreq(len(t),t[1]-t[0]) # Frekvencia-mintavételezés\n",
    ">```"
   ]
  }
 ],
 "metadata": {
  "hide_input": false,
  "kernelspec": {
   "display_name": "Python 3",
   "language": "python",
   "name": "python3"
  },
  "language_info": {
   "codemirror_mode": {
    "name": "ipython",
    "version": 3
   },
   "file_extension": ".py",
   "mimetype": "text/x-python",
   "name": "python",
   "nbconvert_exporter": "python",
   "pygments_lexer": "ipython3",
   "version": "3.5.1"
  },
  "name": "Cheat_sheat.ipynb"
 },
 "nbformat": 4,
 "nbformat_minor": 0
}
