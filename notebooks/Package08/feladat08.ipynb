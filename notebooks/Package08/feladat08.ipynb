{
 "cells": [
  {
   "cell_type": "markdown",
   "metadata": {},
   "source": [
    "# Feladatok\n",
    "\n",
    "- Minden feladatot külön notebookba oldj meg! \n",
    "- A megoldásnotebook **neve** tartalmazza a feladat **számát**! \n",
    "- A megoldások kerüljenek a **MEGOLDASOK mappába**!<br> Csak azok a feladatok kerülnek elbírálásra, amelyek a MEGOLDASOK mappában vannak!\n",
    "- A megoldás tartalmazza a megoldandó **feladat szövegét** a megoldásnotebook első `markdown` cellájában! \n",
    "- **Kommentekkel**, illetve `markdown` cellákkal magyarázd, hogy éppen mit csinál az adott kódrészlet!<br> Magyarázat nélkül beküldött feladatok csak fél feladatnak számítanak!\n",
    "- **Figyelem** a megoldásokat az egyszerűség kedvéért most **NE** kezdjétek a megszokott `%pylab inline` paranccsal!\n",
    "---"
   ]
  },
  {
   "cell_type": "markdown",
   "metadata": {},
   "source": [
    "## 01-Harmadfokú egyenlet\n",
    "\n",
    "Határozzuk meg az általános harmadfokú egyenlet $$ ax^3+bx^2+cx+d=0 $$ megoldásait zárt alakban! "
   ]
  },
  {
   "cell_type": "markdown",
   "metadata": {},
   "source": [
    "## 02-Két ismeretlenes egyenletrendszer\n",
    "\n",
    "A következő feladatsorban szükségünk lesz a legáltalánosabb két ismeretlenes lineáris egyenletrenszer megoldására. Oldjuk meg hát sympy-al az alábbi egyenletrendszert!\n",
    "$$a_{11} x_1 +a_{12} x_2 = b_1$$\n",
    "$$a_{21} x_1 +a_{22} x_2 = b_2$$"
   ]
  },
  {
   "cell_type": "markdown",
   "metadata": {},
   "source": [
    "## 03-Hasáb a lejtőn\n",
    "![](https://www2.southeastern.edu/Academics/Faculty/rallain/plab193/page1/page21/files/page21_3.jpg)\n",
    "\n",
    "\n",
    "Vizsgáljuk egy lejtőre helyeztt hasáb mozgásegyenleteit a `sympy` csomag segítségével. Legyen a hasáb tömege $M$ jelöljük a test lejtő menti gyorsulását $a$-val a tartó erőt $F_t$-vel. Tételezzük fel hogy a test és a lejtő között csúszási surlódás lép fel melyet a $\\mu$ együttható jellemez. Jelöljük a surlódási erőt $F_s$-el. A lejtő vízszintessel bezárt szöge legyen $\\alpha$. Ha $0$ kezdősebességgel elengedjük a hasábot akkor $t$ idő múlva mekkora utat fog megtenni ? Határozzuk meg $a$-t,$F_s$-et illetve $F_t$-t is!\n",
    "A megoldandó egyenletrendszer tehát: \n",
    "\n",
    "\n",
    "\\begin{align}\n",
    "Mg\\sin(\\alpha)-F_s&=Ma \\\\\n",
    "Mg\\cos(\\alpha)-F_t&=0 \\\\\n",
    "F_s&=\\mu F_t \\\\\n",
    "s&=\\frac{a}{2}t^2 \n",
    "\\end{align}\n",
    "\n",
    "A megoldáshoz használjuk a sympy csomag `solve` függvényét!"
   ]
  },
  {
   "cell_type": "markdown",
   "metadata": {},
   "source": [
    "## 04-Rugalmas ütközés ☠\n",
    "\n",
    "![](https://upload.wikimedia.org/wikipedia/commons/e/e5/Elastischer_sto%C3%9F3.gif)\n",
    "\n",
    "Oldjuk meg a képen vázolt rugalmas ütközési problémát a `sympy` csomag segítségével! Azaz két $2m$ és $m$ tömegű test kezdetben egymás felé száguld $v$ sebességgel! Lássuk be hogy miután rugalmas ütközést szenvedtek a sebességeik $v/3$ illetve $v5/3$ lesz. Emlékeztetés képp a rugalmas ütközés során a lendület és a kinetikus energia megmarad! \n",
    "$$ I=\\sum_i m_i v_i = const.$$\n",
    "$$E_{kin}=\\sum_i\\frac{1}{2} m_i v_i^2 =const.$$"
   ]
  },
  {
   "cell_type": "markdown",
   "metadata": {},
   "source": [
    "## 05-Maxwell -- Boltzmann\n",
    "\n",
    "Vizsgáljuk a termodinamikából ismert [Maxwell -- Boltztmann-sebességeloszlást](https://hu.wikipedia.org/wiki/Maxwell%E2%80%93Boltzmann-eloszl%C3%A1s#A_sebess.C3.A9g_eloszl.C3.A1s) !\n",
    "\n",
    "$$f(v)=\\sqrt{\\frac{2}{\\pi}} \\frac{v^2 e^{-v^2/(2a^2)}}{a^3}$$ \n",
    "\n",
    "Határozzuk meg `sympy` függvények segítségével a következő mennyiségeket:\n",
    "\n",
    "- Az átlagos sebesség: $\\displaystyle\\int_0^\\infty  vf(v) \\mathrm{d}v$\n",
    "- A tipikus sebesség: $\\sqrt{\\displaystyle\\int_0^\\infty  v^2f(v) \\mathrm{d}v}$\n",
    "- A legvalószínűbb $v^*$ sebesség (ahol az eloszlásnak maximuma van): $\\partial_v f(v)|_{v=v^*}=0$ ☠\n"
   ]
  },
  {
   "cell_type": "markdown",
   "metadata": {},
   "source": [
    "## 06-Taylor-sorok ☠\n",
    "\n",
    "Határozzuk meg az alábbi függvények Taylor-sorát a megadott rendig a megadott pont körül!\n",
    "\n",
    "- $f(x)=\\sin(x^2)+cos(x),\\,x=\\pi/3 $-körül harmad rendig\n",
    "- $g(t)=\\exp(-(x-3)^2)\\sin(x),\\,x=0$-körül negyed rendig"
   ]
  },
  {
   "cell_type": "markdown",
   "metadata": {},
   "source": [
    "## 07-Differenciál egyenletek ☠\n",
    "\n",
    "Határozzuk meg az $$f''(x) + 9 f(x) = 1$$ másodrendű differenciál egyenlet általános megoldását!"
   ]
  }
 ],
 "metadata": {
  "hide_input": false,
  "kernelspec": {
   "display_name": "Python 3",
   "language": "python",
   "name": "python3"
  },
  "language_info": {
   "codemirror_mode": {
    "name": "ipython",
    "version": 3
   },
   "file_extension": ".py",
   "mimetype": "text/x-python",
   "name": "python",
   "nbconvert_exporter": "python",
   "pygments_lexer": "ipython3",
   "version": "3.5.2"
  },
  "latex_envs": {
   "bibliofile": "biblio.bib",
   "cite_by": "apalike",
   "current_citInitial": 1,
   "eqLabelWithNumbers": true,
   "eqNumInitial": 0
  },
  "name": "feladat04.ipynb"
 },
 "nbformat": 4,
 "nbformat_minor": 0
}
