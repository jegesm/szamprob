{
 "cells": [
  {
   "cell_type": "markdown",
   "metadata": {},
   "source": [
    "# Feladatok\n",
    "\n",
    "- Minden feladatot külön notebookba oldj meg! \n",
    "- A megoldásnotebook **neve** tartalmazza a feladat **számát**! \n",
    "- A megoldások kerüljenek a **MEGOLDASOK mappába**!<br> Csak azok a feladatok kerülnek elbírálásra, amelyek a MEGOLDASOK mappában vannak!\n",
    "- A megoldás tartalmazza a megoldandó **feladat szövegét** a megoldásnotebook első `markdown` cellájában! \n",
    "- **Kommentekkel**, illetve `markdown` cellákkal magyarázd, hogy éppen mit csinál az adott kódrészlet!<br> Magyarázat nélkül beküldött feladatok csak fél feladatnak számítanak!\n",
    "- **Figyelem** a megoldásokat az egyszerűség kedvéért most **NE** kezdjétek a megszokott `%pylab inline` paranccsal!\n",
    "---"
   ]
  },
  {
   "cell_type": "markdown",
   "metadata": {},
   "source": [
    "## 01-Harmadfokú egyenlet\n",
    "\n",
    "Határozzuk meg az általános harmadfokú egyenlet $$ ax^3+bx^2+cx+d=0 $$ megoldásait zárt alakban! "
   ]
  },
  {
   "cell_type": "code",
   "execution_count": 1,
   "metadata": {
    "collapsed": false
   },
   "outputs": [],
   "source": [
    "#import ptpython\n",
    "#!pip install sympy\n",
    "from sympy import *\n",
    "init_printing()     # szép kimenet  "
   ]
  },
  {
   "cell_type": "code",
   "execution_count": 50,
   "metadata": {
    "collapsed": false
   },
   "outputs": [],
   "source": [
    "a,b,x,c,d = symbols(\"a,b,x,c,d\")"
   ]
  },
  {
   "cell_type": "code",
   "execution_count": 51,
   "metadata": {
    "collapsed": false
   },
   "outputs": [
    {
     "data": {
      "image/png": "[encoded data removed]",
      "text/latex": [
       "$$\\left [ - \\frac{- \\frac{3 c}{a} + \\frac{b^{2}}{a^{2}}}{3 \\sqrt[3]{\\frac{1}{2} \\sqrt{- 4 \\left(- \\frac{3 c}{a} + \\frac{b^{2}}{a^{2}}\\right)^{3} + \\left(\\frac{27 d}{a} - \\frac{9 b}{a^{2}} c + \\frac{2 b^{3}}{a^{3}}\\right)^{2}} + \\frac{27 d}{2 a} - \\frac{9 b c}{2 a^{2}} + \\frac{b^{3}}{a^{3}}}} - \\frac{1}{3} \\sqrt[3]{\\frac{1}{2} \\sqrt{- 4 \\left(- \\frac{3 c}{a} + \\frac{b^{2}}{a^{2}}\\right)^{3} + \\left(\\frac{27 d}{a} - \\frac{9 b}{a^{2}} c + \\frac{2 b^{3}}{a^{3}}\\right)^{2}} + \\frac{27 d}{2 a} - \\frac{9 b c}{2 a^{2}} + \\frac{b^{3}}{a^{3}}} - \\frac{b}{3 a}, \\quad - \\frac{- \\frac{3 c}{a} + \\frac{b^{2}}{a^{2}}}{3 \\left(- \\frac{1}{2} - \\frac{\\sqrt{3} i}{2}\\right) \\sqrt[3]{\\frac{1}{2} \\sqrt{- 4 \\left(- \\frac{3 c}{a} + \\frac{b^{2}}{a^{2}}\\right)^{3} + \\left(\\frac{27 d}{a} - \\frac{9 b}{a^{2}} c + \\frac{2 b^{3}}{a^{3}}\\right)^{2}} + \\frac{27 d}{2 a} - \\frac{9 b c}{2 a^{2}} + \\frac{b^{3}}{a^{3}}}} - \\frac{1}{3} \\left(- \\frac{1}{2} - \\frac{\\sqrt{3} i}{2}\\right) \\sqrt[3]{\\frac{1}{2} \\sqrt{- 4 \\left(- \\frac{3 c}{a} + \\frac{b^{2}}{a^{2}}\\right)^{3} + \\left(\\frac{27 d}{a} - \\frac{9 b}{a^{2}} c + \\frac{2 b^{3}}{a^{3}}\\right)^{2}} + \\frac{27 d}{2 a} - \\frac{9 b c}{2 a^{2}} + \\frac{b^{3}}{a^{3}}} - \\frac{b}{3 a}, \\quad - \\frac{- \\frac{3 c}{a} + \\frac{b^{2}}{a^{2}}}{3 \\left(- \\frac{1}{2} + \\frac{\\sqrt{3} i}{2}\\right) \\sqrt[3]{\\frac{1}{2} \\sqrt{- 4 \\left(- \\frac{3 c}{a} + \\frac{b^{2}}{a^{2}}\\right)^{3} + \\left(\\frac{27 d}{a} - \\frac{9 b}{a^{2}} c + \\frac{2 b^{3}}{a^{3}}\\right)^{2}} + \\frac{27 d}{2 a} - \\frac{9 b c}{2 a^{2}} + \\frac{b^{3}}{a^{3}}}} - \\frac{1}{3} \\left(- \\frac{1}{2} + \\frac{\\sqrt{3} i}{2}\\right) \\sqrt[3]{\\frac{1}{2} \\sqrt{- 4 \\left(- \\frac{3 c}{a} + \\frac{b^{2}}{a^{2}}\\right)^{3} + \\left(\\frac{27 d}{a} - \\frac{9 b}{a^{2}} c + \\frac{2 b^{3}}{a^{3}}\\right)^{2}} + \\frac{27 d}{2 a} - \\frac{9 b c}{2 a^{2}} + \\frac{b^{3}}{a^{3}}} - \\frac{b}{3 a}\\right ]$$"
      ],
      "text/plain": [
       "⎡                                                                             \n",
       "⎢                                                                             \n",
       "⎢                                                                             \n",
       "⎢                                                                             \n",
       "⎢                                                                             \n",
       "⎢                                                                             \n",
       "⎢                                                 2                           \n",
       "⎢                                          3⋅c   b                            \n",
       "⎢                                        - ─── + ──                           \n",
       "⎢                                           a     2                           \n",
       "⎢                                                a                            \n",
       "⎢- ───────────────────────────────────────────────────────────────────────────\n",
       "⎢               ______________________________________________________________\n",
       "⎢              ╱        ____________________________________________          \n",
       "⎢             ╱        ╱                 3                        2           \n",
       "⎢            ╱        ╱      ⎛         2⎞    ⎛                  3⎞            \n",
       "⎢           ╱        ╱       ⎜  3⋅c   b ⎟    ⎜27⋅d   9⋅b⋅c   2⋅b ⎟            \n",
       "⎢          ╱        ╱    - 4⋅⎜- ─── + ──⎟  + ⎜──── - ───── + ────⎟            \n",
       "⎢         ╱        ╱         ⎜   a     2⎟    ⎜ a        2      3 ⎟            \n",
       "⎢        ╱       ╲╱          ⎝        a ⎠    ⎝         a      a  ⎠     27⋅d   \n",
       "⎢  3⋅   ╱        ─────────────────────────────────────────────────── + ──── - \n",
       "⎢    3 ╱                                  2                            2⋅a    \n",
       "⎣    ╲╱                                                                       \n",
       "\n",
       "                         _____________________________________________________\n",
       "                        ╱        ____________________________________________ \n",
       "                       ╱        ╱                 3                        2  \n",
       "                      ╱        ╱      ⎛         2⎞    ⎛                  3⎞   \n",
       "                     ╱        ╱       ⎜  3⋅c   b ⎟    ⎜27⋅d   9⋅b⋅c   2⋅b ⎟   \n",
       "                    ╱        ╱    - 4⋅⎜- ─── + ──⎟  + ⎜──── - ───── + ────⎟   \n",
       "                   ╱        ╱         ⎜   a     2⎟    ⎜ a        2      3 ⎟   \n",
       "                  ╱       ╲╱          ⎝        a ⎠    ⎝         a      a  ⎠   \n",
       "                 ╱        ─────────────────────────────────────────────────── \n",
       "              3 ╱                                  2                          \n",
       "              ╲╱                                                              \n",
       "─────────── - ────────────────────────────────────────────────────────────────\n",
       "___________                                            3                      \n",
       "                                                                              \n",
       "                                                                              \n",
       "                                                                              \n",
       "                                                                              \n",
       "                                                                              \n",
       "         3                                                                    \n",
       "9⋅b⋅c   b                                                                     \n",
       "───── + ──                                                                    \n",
       "    2    3                                                                    \n",
       " 2⋅a    a                                                                     \n",
       "\n",
       "____________________                                                          \n",
       "                                                                              \n",
       "                                                                              \n",
       "                                                                              \n",
       "                                                                              \n",
       "                                                                              \n",
       "                  3                                                           \n",
       "  27⋅d   9⋅b⋅c   b                                                           3\n",
       "+ ──── - ───── + ──                                                        - ─\n",
       "  2⋅a        2    3                                                           \n",
       "          2⋅a    a      b                                                     \n",
       "──────────────────── - ───, - ────────────────────────────────────────────────\n",
       "                       3⋅a                              ______________________\n",
       "                                                       ╱        ______________\n",
       "                                                      ╱        ╱              \n",
       "                                                     ╱        ╱      ⎛        \n",
       "                                                    ╱        ╱       ⎜  3⋅c   \n",
       "                                                   ╱        ╱    - 4⋅⎜- ─── + \n",
       "                                                  ╱        ╱         ⎜   a    \n",
       "                                ⎛  1   √3⋅ⅈ⎞     ╱       ╲╱          ⎝        \n",
       "                              3⋅⎜- ─ - ────⎟⋅   ╱        ─────────────────────\n",
       "                                ⎝  2    2  ⎠ 3 ╱                              \n",
       "                                             ╲╱                               \n",
       "\n",
       "                                                                              \n",
       "                                                                             ╱\n",
       "                                                                            ╱ \n",
       "                                                                           ╱  \n",
       "                                                                          ╱   \n",
       "                                                                         ╱    \n",
       "      2                                                                 ╱     \n",
       "⋅c   b                                                ⎛  1   √3⋅ⅈ⎞     ╱      \n",
       "── + ──                                               ⎜- ─ - ────⎟⋅   ╱       \n",
       "a     2                                               ⎝  2    2  ⎠ 3 ╱        \n",
       "     a                                                             ╲╱         \n",
       "─────────────────────────────────────────────────── - ────────────────────────\n",
       "___________________________________________________                           \n",
       "______________________________                                                \n",
       "   3                        2                                                 \n",
       " 2⎞    ⎛                  3⎞                                                  \n",
       "b ⎟    ⎜27⋅d   9⋅b⋅c   2⋅b ⎟                                                  \n",
       "──⎟  + ⎜──── - ───── + ────⎟                                                  \n",
       " 2⎟    ⎜ a        2      3 ⎟                     3                            \n",
       "a ⎠    ⎝         a      a  ⎠     27⋅d   9⋅b⋅c   b                             \n",
       "────────────────────────────── + ──── - ───── + ──                            \n",
       "    2                            2⋅a        2    3                            \n",
       "                                         2⋅a    a                             \n",
       "\n",
       "_________________________________________________________________________     \n",
       "        ____________________________________________                          \n",
       "       ╱                 3                        2                           \n",
       "      ╱      ⎛         2⎞    ⎛                  3⎞                            \n",
       "     ╱       ⎜  3⋅c   b ⎟    ⎜27⋅d   9⋅b⋅c   2⋅b ⎟                            \n",
       "    ╱    - 4⋅⎜- ─── + ──⎟  + ⎜──── - ───── + ────⎟                            \n",
       "   ╱         ⎜   a     2⎟    ⎜ a        2      3 ⎟                     3      \n",
       " ╲╱          ⎝        a ⎠    ⎝         a      a  ⎠     27⋅d   9⋅b⋅c   b       \n",
       " ─────────────────────────────────────────────────── + ──── - ───── + ──      \n",
       "                          2                            2⋅a        2    3      \n",
       "                                                               2⋅a    a      b\n",
       "───────────────────────────────────────────────────────────────────────── - ──\n",
       "                        3                                                   3⋅\n",
       "                                                                              \n",
       "                                                                              \n",
       "                                                                              \n",
       "                                                                              \n",
       "                                                                              \n",
       "                                                                              \n",
       "                                                                              \n",
       "                                                                              \n",
       "                                                                              \n",
       "                                                                              \n",
       "\n",
       "                                                                              \n",
       "                                                                              \n",
       "                                                                              \n",
       "                                                                              \n",
       "                                                                              \n",
       "                                                                              \n",
       "                                                           2                  \n",
       "                                                    3⋅c   b                   \n",
       "                                                  - ─── + ──                  \n",
       "                                                     a     2                  \n",
       "                                                          a                   \n",
       "─, - ─────────────────────────────────────────────────────────────────────────\n",
       "a                              _______________________________________________\n",
       "                              ╱        _______________________________________\n",
       "                             ╱        ╱                 3                     \n",
       "                            ╱        ╱      ⎛         2⎞    ⎛                 \n",
       "                           ╱        ╱       ⎜  3⋅c   b ⎟    ⎜27⋅d   9⋅b⋅c   2⋅\n",
       "                          ╱        ╱    - 4⋅⎜- ─── + ──⎟  + ⎜──── - ───── + ──\n",
       "                         ╱        ╱         ⎜   a     2⎟    ⎜ a        2      \n",
       "       ⎛  1   √3⋅ⅈ⎞     ╱       ╲╱          ⎝        a ⎠    ⎝         a      a\n",
       "     3⋅⎜- ─ + ────⎟⋅   ╱        ──────────────────────────────────────────────\n",
       "       ⎝  2    2  ⎠ 3 ╱                                  2                    \n",
       "                    ╲╱                                                        \n",
       "\n",
       "                                                     _________________________\n",
       "                                                    ╱        _________________\n",
       "                                                   ╱        ╱                 \n",
       "                                                  ╱        ╱      ⎛         2⎞\n",
       "                                                 ╱        ╱       ⎜  3⋅c   b ⎟\n",
       "                                                ╱        ╱    - 4⋅⎜- ─── + ──⎟\n",
       "                                               ╱        ╱         ⎜   a     2⎟\n",
       "                             ⎛  1   √3⋅ⅈ⎞     ╱       ╲╱          ⎝        a ⎠\n",
       "                             ⎜- ─ + ────⎟⋅   ╱        ────────────────────────\n",
       "                             ⎝  2    2  ⎠ 3 ╱                                 \n",
       "                                          ╲╱                                  \n",
       "────────────────────────── - ─────────────────────────────────────────────────\n",
       "__________________________                                                   3\n",
       "_____                                                                         \n",
       "   2                                                                          \n",
       " 3⎞                                                                           \n",
       "b ⎟                                                                           \n",
       "──⎟                                                                           \n",
       "3 ⎟                     3                                                     \n",
       "  ⎠     27⋅d   9⋅b⋅c   b                                                      \n",
       "───── + ──── - ───── + ──                                                     \n",
       "        2⋅a        2    3                                                     \n",
       "                2⋅a    a                                                      \n",
       "\n",
       "________________________________________________      ⎤\n",
       "___________________________                           ⎥\n",
       "3                        2                            ⎥\n",
       "    ⎛                  3⎞                             ⎥\n",
       "    ⎜27⋅d   9⋅b⋅c   2⋅b ⎟                             ⎥\n",
       "  + ⎜──── - ───── + ────⎟                             ⎥\n",
       "    ⎜ a        2      3 ⎟                     3       ⎥\n",
       "    ⎝         a      a  ⎠     27⋅d   9⋅b⋅c   b        ⎥\n",
       "─────────────────────────── + ──── - ───── + ──       ⎥\n",
       " 2                            2⋅a        2    3       ⎥\n",
       "                                      2⋅a    a      b ⎥\n",
       "──────────────────────────────────────────────── - ───⎥\n",
       "                                                   3⋅a⎥\n",
       "                                                      ⎥\n",
       "                                                      ⎥\n",
       "                                                      ⎥\n",
       "                                                      ⎥\n",
       "                                                      ⎥\n",
       "                                                      ⎥\n",
       "                                                      ⎥\n",
       "                                                      ⎥\n",
       "                                                      ⎥\n",
       "                                                      ⎦"
      ]
     },
     "execution_count": 51,
     "metadata": {},
     "output_type": "execute_result"
    }
   ],
   "source": [
    "solve(a*x**3+b*x**2+c*x+d,x)"
   ]
  },
  {
   "cell_type": "markdown",
   "metadata": {},
   "source": [
    "## 02-Két ismeretlenes egyenletrendszer\n",
    "\n",
    "A következő feladatsorban szükségünk lesz a legáltalánosabb két ismeretlenes lineáris egyenletrenszer megoldására. Oldjuk meg hát sympy-al az alábbi egyenletrendszert!\n",
    "$$a_{11} x_1 +a_{12} x_2 = b_1$$\n",
    "$$a_{21} x_1 +a_{22} x_2 = b_2$$"
   ]
  },
  {
   "cell_type": "code",
   "execution_count": 55,
   "metadata": {
    "collapsed": true
   },
   "outputs": [],
   "source": [
    "a11,a12,a21,a22,b1,b2,x1,x2 = symbols('a11,a12,a21,a22,b1,b2,x1,x2')"
   ]
  },
  {
   "cell_type": "code",
   "execution_count": 56,
   "metadata": {
    "collapsed": false
   },
   "outputs": [
    {
     "data": {
      "image/png": "[encoded data removed]",
      "text/latex": [
       "$$\\left \\{ x_{1} : \\frac{- a_{12} b_{2} + a_{22} b_{1}}{a_{11} a_{22} - a_{12} a_{21}}, \\quad x_{2} : \\frac{a_{11} b_{2} - a_{21} b_{1}}{a_{11} a_{22} - a_{12} a_{21}}\\right \\}$$"
      ],
      "text/plain": [
       "⎧     -a₁₂⋅b₂ + a₂₂⋅b₁       a₁₁⋅b₂ - a₂₁⋅b₁ ⎫\n",
       "⎨x₁: ─────────────────, x₂: ─────────────────⎬\n",
       "⎩    a₁₁⋅a₂₂ - a₁₂⋅a₂₁      a₁₁⋅a₂₂ - a₁₂⋅a₂₁⎭"
      ]
     },
     "execution_count": 56,
     "metadata": {},
     "output_type": "execute_result"
    }
   ],
   "source": [
    "solve([a11*x1+a12*x2-b1,a21*x1+a22*x2-b2],[x1,x2])"
   ]
  },
  {
   "cell_type": "markdown",
   "metadata": {},
   "source": [
    "## 03-Hasáb a lejtőn\n",
    "![](https://www2.southeastern.edu/Academics/Faculty/rallain/plab193/page1/page21/files/page21_3.jpg)\n",
    "\n",
    "\n",
    "Vizsgáljuk egy lejtőre helyeztt hasáb mozgásegyenleteit a `sympy` csomag segítségével. Legyen a hasáb tömege $M$ jelöljük a test lejtő menti gyorsulását $a$-val a tartó erőt $F_t$-vel. Tételezzük fel hogy a test és a lejtő között csúszási surlódás lép fel melyet a $\\mu$ együttható jellemez. Jelöljük a surlódási erőt $F_s$-el. A lejtő vízszintessel bezárt szöge legyen $\\alpha$. Ha $0$ kezdősebességgel elengedjük a hasábot akkor $t$ idő múlva mekkora utat fog megtenni ? Határozzuk meg $a$-t,$F_s$-et illetve $F_t$-t is!\n",
    "A megoldandó egyenletrendszer tehát: \n",
    "\n",
    "\n",
    "\\begin{align}\n",
    "Mg\\sin(\\alpha)-F_s&=Ma \\\\\n",
    "Mg\\cos(\\alpha)-F_t&=0 \\\\\n",
    "F_s&=\\mu F_t \\\\\n",
    "s&=\\frac{a}{2}t^2 \n",
    "\\end{align}\n",
    "\n",
    "A megoldáshoz használjuk a sympy csomag `solve` függvényét!"
   ]
  },
  {
   "cell_type": "code",
   "execution_count": 62,
   "metadata": {
    "collapsed": true
   },
   "outputs": [],
   "source": [
    "Fs,M,g,alpha,Ft,mu,s,t,a=symbols('Fs,M,g,alpha,Ft,mu,s,t,a')"
   ]
  },
  {
   "cell_type": "code",
   "execution_count": 87,
   "metadata": {
    "collapsed": false
   },
   "outputs": [
    {
     "data": {
      "image/png": "[encoded data removed]",
      "text/latex": [
       "$$\\left \\{ Fs : M g \\mu \\cos{\\left (\\alpha \\right )}, \\quad Ft : M g \\cos{\\left (\\alpha \\right )}, \\quad a : g \\left(- \\mu \\cos{\\left (\\alpha \\right )} + \\sin{\\left (\\alpha \\right )}\\right), \\quad s : \\frac{g t^{2}}{2} \\left(- \\mu \\cos{\\left (\\alpha \\right )} + \\sin{\\left (\\alpha \\right )}\\right)\\right \\}$$"
      ],
      "text/plain": [
       "⎧                                                                   2         \n",
       "⎪                                                                g⋅t ⋅(-μ⋅cos(\n",
       "⎨Fs: M⋅g⋅μ⋅cos(α), Ft: M⋅g⋅cos(α), a: g⋅(-μ⋅cos(α) + sin(α)), s: ─────────────\n",
       "⎪                                                                            2\n",
       "⎩                                                                             \n",
       "\n",
       "            ⎫\n",
       "α) + sin(α))⎪\n",
       "────────────⎬\n",
       "            ⎪\n",
       "            ⎭"
      ]
     },
     "execution_count": 87,
     "metadata": {},
     "output_type": "execute_result"
    }
   ],
   "source": [
    "solve([M*g*sin(alpha)-Fs-M*a,M*g*cos(alpha)-Ft,Fs-mu*Ft,s-a/2*t**2],[s,a,Fs,Ft])"
   ]
  },
  {
   "cell_type": "markdown",
   "metadata": {},
   "source": [
    "## 04-Rugalmas ütközés ☠\n",
    "\n",
    "![](https://upload.wikimedia.org/wikipedia/commons/e/e5/Elastischer_sto%C3%9F3.gif)\n",
    "\n",
    "Oldjuk meg a képen vázolt rugalmas ütközési problémát a `sympy` csomag segítségével! Azaz két $2m$ és $m$ tömegű test kezdetben egymás felé száguld $v$ sebességgel! Lássuk be hogy miután rugalmas ütközést szenvedtek a sebességeik $v/3$ illetve $v5/3$ lesz. Emlékeztetés képp a rugalmas ütközés során a lendület és a kinetikus energia megmarad! \n",
    "$$ I=\\sum_i m_i v_i = const.$$\n",
    "$$E_{kin}=\\sum_i\\frac{1}{2} m_i v_i^2 =const.$$"
   ]
  },
  {
   "cell_type": "code",
   "execution_count": 10,
   "metadata": {
    "collapsed": true
   },
   "outputs": [],
   "source": [
    "m1,m2,v1,v2,v=symbols('m1,m2,v1,v2,v')"
   ]
  },
  {
   "cell_type": "code",
   "execution_count": 11,
   "metadata": {
    "collapsed": false
   },
   "outputs": [
    {
     "data": {
      "image/png": "[encoded data removed]",
      "text/latex": [
       "$$\\left [ \\left ( - \\frac{5 v}{3}, \\quad \\frac{v}{3}\\right ), \\quad \\left ( v, \\quad - v\\right )\\right ]$$"
      ],
      "text/plain": [
       "⎡⎛-5⋅v   v⎞         ⎤\n",
       "⎢⎜─────, ─⎟, (v, -v)⎥\n",
       "⎣⎝  3    3⎠         ⎦"
      ]
     },
     "execution_count": 11,
     "metadata": {},
     "output_type": "execute_result"
    }
   ],
   "source": [
    "solve([m1*v-2*m1*v - m1*v1-2*m1*v2 ,3*m1*v**2-m1*v1**2-2*m1*v2**2],[v1,v2])"
   ]
  },
  {
   "cell_type": "markdown",
   "metadata": {},
   "source": [
    "## 05-Maxwell -- Boltzmann\n",
    "\n",
    "Vizsgáljuk a termodinamikából ismert [Maxwell -- Boltztmann-sebességeloszlást](https://hu.wikipedia.org/wiki/Maxwell%E2%80%93Boltzmann-eloszl%C3%A1s#A_sebess.C3.A9g_eloszl.C3.A1s) !\n",
    "\n",
    "$$f(v)=\\sqrt{\\frac{2}{\\pi}} \\frac{v^2 e^{-v^2/(2a^2)}}{a^3}$$ \n",
    "\n",
    "Határozzuk meg `sympy` függvények segítségével a következő mennyiségeket:\n",
    "\n",
    "- Az átlagos sebesség: $\\displaystyle\\int_0^\\infty  vf(v) \\mathrm{d}v$\n",
    "- A tipikus sebesség: $\\sqrt{\\displaystyle\\int_0^\\infty  v^2f(v) \\mathrm{d}v}$\n",
    "- A legvalószínűbb $v^*$ sebesség (ahol az eloszlásnak maximuma van): $\\partial_v f(v)|_{v=v^*}=0$ ☠\n"
   ]
  },
  {
   "cell_type": "code",
   "execution_count": 22,
   "metadata": {
    "collapsed": false
   },
   "outputs": [
    {
     "data": {
      "text/latex": [
       "$$\\begin{cases} \\frac{2 a}{\\sqrt{\\pi}} \\sqrt{2} & \\text{for}\\: \\left|{\\operatorname{periodic_{argument}}{\\left (\\frac{1}{\\operatorname{polar\\_lift}^{2}{\\left (a \\right )}},\\infty \\right )}}\\right| < \\frac{\\pi}{2} \\\\\\int_{0}^{\\infty} \\frac{\\sqrt{2} v^{3}}{\\sqrt{\\pi} a^{3}} e^{- \\frac{v^{2}}{2 a^{2}}}\\, dv & \\text{otherwise} \\end{cases}$$"
      ],
      "text/plain": [
       "⎧     2⋅√2⋅a           │                 ⎛      1          ⎞│   π\n",
       "⎪     ──────       for │periodic_argument⎜──────────────, ∞⎟│ < ─\n",
       "⎪       √π             │                 ⎜          2      ⎟│   2\n",
       "⎪                      │                 ⎝polar_lift (a)   ⎠│    \n",
       "⎪                                                                \n",
       "⎪∞                                                               \n",
       "⎪⌠                                                               \n",
       "⎪⎮          2                                                    \n",
       "⎪⎮        -v                                                     \n",
       "⎨⎮        ────                                                   \n",
       "⎪⎮           2                                                   \n",
       "⎪⎮     3  2⋅a                                                    \n",
       "⎪⎮ √2⋅v ⋅ℯ                                                       \n",
       "⎪⎮ ─────────── dv                    otherwise                   \n",
       "⎪⎮        3                                                      \n",
       "⎪⎮    √π⋅a                                                       \n",
       "⎪⌡                                                               \n",
       "⎪0                                                               \n",
       "⎩                                                                "
      ]
     },
     "execution_count": 22,
     "metadata": {},
     "output_type": "execute_result"
    }
   ],
   "source": [
    "T='sqrt(2/pi)*(v**2*exp(-v**2/(2*a**2)))/(a**3)'\n",
    "integrate('v*'+T,(v,0,oo))"
   ]
  },
  {
   "cell_type": "code",
   "execution_count": 23,
   "metadata": {
    "collapsed": false
   },
   "outputs": [
    {
     "data": {
      "image/png": "[encoded data removed]",
      "text/latex": [
       "$$\\frac{\\sqrt[4]{2}}{\\sqrt[4]{\\pi}} \\int_{0}^{\\infty} \\sqrt{\\frac{v^{4}}{a^{3}} e^{- \\frac{v^{2}}{2 a^{2}}}}\\, dv$$"
      ],
      "text/plain": [
       "      ∞                        \n",
       "      ⌠                        \n",
       "      ⎮           __________   \n",
       "      ⎮          ╱       2     \n",
       "      ⎮         ╱      -v      \n",
       "      ⎮        ╱       ────    \n",
       "      ⎮       ╱           2    \n",
       "      ⎮      ╱      4  2⋅a     \n",
       "4 ___ ⎮     ╱      v ⋅ℯ        \n",
       "╲╱ 2 ⋅⎮    ╱       ────────  dv\n",
       "      ⎮   ╱            3       \n",
       "      ⎮ ╲╱            a        \n",
       "      ⌡                        \n",
       "      0                        \n",
       "───────────────────────────────\n",
       "             4 ___             \n",
       "             ╲╱ π              "
      ]
     },
     "execution_count": 23,
     "metadata": {},
     "output_type": "execute_result"
    }
   ],
   "source": [
    "integrate('sqrt(v**2*'+T+')',(v,0,oo))"
   ]
  },
  {
   "cell_type": "code",
   "execution_count": 25,
   "metadata": {
    "collapsed": false
   },
   "outputs": [
    {
     "data": {
      "image/png": "[encoded data removed]",
      "text/latex": [
       "$$\\left [ 0, \\quad - \\sqrt{2} a, \\quad \\sqrt{2} a\\right ]$$"
      ],
      "text/plain": [
       "[0, -√2⋅a, √2⋅a]"
      ]
     },
     "execution_count": 25,
     "metadata": {},
     "output_type": "execute_result"
    }
   ],
   "source": [
    "solve(diff(T,v),v)"
   ]
  },
  {
   "cell_type": "markdown",
   "metadata": {},
   "source": [
    "## 06-Taylor-sorok ☠\n",
    "\n",
    "Határozzuk meg az alábbi függvények Taylor-sorát a megadott rendig a megadott pont körül!\n",
    "\n",
    "- $f(x)=\\sin(x^2)+cos(x),\\,x=\\pi/3 $-körül harmad rendig\n",
    "- $g(t)=\\exp(-(x-3)^2)\\sin(x),\\,x=0$-körül negyed rendig"
   ]
  },
  {
   "cell_type": "markdown",
   "metadata": {},
   "source": [
    "## 07-Differenciál egyenletek ☠\n",
    "\n",
    "Határozzuk meg az $$f''(x) + 9 f(x) = 1$$ másodrendű differenciál egyenlet általános megoldását!"
   ]
  }
 ],
 "metadata": {
  "hide_input": false,
  "kernelspec": {
   "display_name": "Python 3",
   "language": "python",
   "name": "python3"
  },
  "language_info": {
   "codemirror_mode": {
    "name": "ipython",
    "version": 3
   },
   "file_extension": ".py",
   "mimetype": "text/x-python",
   "name": "python",
   "nbconvert_exporter": "python",
   "pygments_lexer": "ipython3",
   "version": "3.5.2"
  },
  "latex_envs": {
   "bibliofile": "biblio.bib",
   "cite_by": "apalike",
   "current_citInitial": 1,
   "eqLabelWithNumbers": true,
   "eqNumInitial": 0
  },
  "name": "feladat04.ipynb"
 },
 "nbformat": 4,
 "nbformat_minor": 0
}
