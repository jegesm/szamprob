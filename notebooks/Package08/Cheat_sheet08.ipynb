{
 "cells": [
  {
   "cell_type": "markdown",
   "metadata": {},
   "source": [
    "# Szimbolikus számolás\n",
    "\n",
    "\n",
    "<h3 style='color: darkcyan '> A sympy modul használata </h3>\n",
    "\n",
    "A modul betöltése és szépen formázot kimenet beállítása\n",
    ">```python\n",
    "from sympy import * # a sympy csomag rutinjainak betöltése\n",
    "init_printing()     # szépen formázott kiírás (ez nem kötelező)\n",
    "```\n",
    "\n",
    "A Szimbolikus számítás során használt változók deklarálása\n",
    ">```python\n",
    "x=symbols('x')  # x változó mint szimbolikusan maniplálhatóvá tevése\n",
    "```\n",
    "\n",
    "Egyenlet megoldás\n",
    ">```python\n",
    "solve(a*x**2+b*x*c,x)     # A megoldandó egyenletet nullára rendezzük!\n",
    "```\n",
    "\n",
    "Függvény analízis\n",
    ">```python\n",
    "diff(sin(x),x)            # deriválás\n",
    "```\n",
    ">```python\n",
    "integrate(x**2,(x,0,3))   # határozott integrál\n",
    "```"
   ]
  }
 ],
 "metadata": {
  "anaconda-cloud": {},
  "hide_input": false,
  "kernelspec": {
   "display_name": "Python 3",
   "language": "python",
   "name": "python3"
  },
  "language_info": {
   "codemirror_mode": {
    "name": "ipython",
    "version": 3
   },
   "file_extension": ".py",
   "mimetype": "text/x-python",
   "name": "python",
   "nbconvert_exporter": "python",
   "pygments_lexer": "ipython3",
   "version": "3.5.1"
  },
  "latex_envs": {
   "bibliofile": "biblio.bib",
   "cite_by": "apalike",
   "current_citInitial": 1,
   "eqLabelWithNumbers": true,
   "eqNumInitial": 0
  },
  "toc": {
   "toc_cell": false,
   "toc_number_sections": true,
   "toc_threshold": 6,
   "toc_window_display": false
  }
 },
 "nbformat": 4,
 "nbformat_minor": 0
}
